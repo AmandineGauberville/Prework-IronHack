{
 "cells": [
  {
   "cell_type": "markdown",
   "metadata": {},
   "source": [
    "<img src=\"https://bit.ly/2VnXWr2\" width=\"100\" align=\"left\">"
   ]
  },
  {
   "cell_type": "markdown",
   "metadata": {},
   "source": [
    "# The Snail and the Well\n",
    "\n",
    "A snail falls at the bottom of a 125 cm well. Each day the snail rises 30 cm. But at night, while sleeping, slides 20 cm because the walls are wet. How many days does it take for the snail to escape the well?\n",
    "\n",
    "**Hint**: The snail gets out of the well when it surpasses the 125cm of height.\n",
    "\n",
    "## Tools\n",
    "\n",
    "1. Loop: **while**\n",
    "2. Conditional statements: **if-else**\n",
    "3. Function: **print()**\n",
    "\n",
    "## Tasks\n",
    "\n",
    "#### 1. Assign the challenge data to variables with representative names: `well_height`, `daily_distance`, `nightly_distance` and `snail_position`."
   ]
  },
  {
   "cell_type": "code",
   "execution_count": 3,
   "metadata": {},
   "outputs": [],
   "source": [
    ">>> well_height = 125\n",
    ">>> daily_distance = 30\n",
    ">>> nightly_distance = -20\n",
    ">>> snail_position = 0"
   ]
  },
  {
   "cell_type": "markdown",
   "metadata": {},
   "source": [
    "#### 2. Create a variable `days` to keep count of the days that pass until the snail escapes the well. "
   ]
  },
  {
   "cell_type": "code",
   "execution_count": 7,
   "metadata": {},
   "outputs": [],
   "source": [
    "days = 1"
   ]
  },
  {
   "cell_type": "markdown",
   "metadata": {},
   "source": [
    "#### 3. Find the solution to the challenge using the variables defined above. "
   ]
  },
  {
   "cell_type": "code",
   "execution_count": 13,
   "metadata": {},
   "outputs": [
    {
     "name": "stdout",
     "output_type": "stream",
     "text": [
      "day numero  0\n",
      "day numero  1\n",
      "day numero  2\n",
      "day numero  3\n",
      "day numero  4\n",
      "day numero  5\n",
      "day numero  6\n",
      "day numero  7\n",
      "day numero  8\n",
      "day numero  9\n",
      "day numero  10\n",
      "day numero  11\n",
      "day numero  12\n",
      "l'escargot est sorti du puit le jour numero  13\n"
     ]
    }
   ],
   "source": [
    "well_height = 125\n",
    ">>> daily_distance = 30\n",
    ">>> nightly_distance = -20\n",
    ">>> snail_position = 0\n",
    ">>> day = 0\n",
    ">>>\n",
    ">>> if snail_position <= well_height :\n",
    "...     while snail_position <= well_height :\n",
    "...             print(\"day numero \", day)\n",
    "...             snail_position += (daily_distance + nightly_distance)\n",
    "...             day += 1\n",
    "...     print(\"l'escargot est sorti du puit le jour numero \", day)\n",
    "... else:\n",
    "...     print(\"l'escargot n'est pas dans le puit\")"
   ]
  },
  {
   "cell_type": "markdown",
   "metadata": {},
   "source": [
    "#### 4. Print the solution."
   ]
  },
  {
   "cell_type": "code",
   "execution_count": null,
   "metadata": {},
   "outputs": [],
   "source": [
    "day numero  0\n",
    "day numero  1\n",
    "day numero  2\n",
    "day numero  3\n",
    "day numero  4\n",
    "day numero  5\n",
    "day numero  6\n",
    "day numero  7\n",
    "day numero  8\n",
    "day numero  9\n",
    "day numero  10\n",
    "day numero  11\n",
    "day numero  12\n",
    "l'escargot est sorti du puit le jour numero  13"
   ]
  },
  {
   "cell_type": "markdown",
   "metadata": {},
   "source": [
    "## Bonus\n",
    "The distance traveled by the snail each day is now defined by a list.\n",
    "```\n",
    "advance_cm = [30, 21, 33, 77, 44, 45, 23, 45, 12, 34, 55]\n",
    "```\n",
    "On the first day, the snail rises 30cm but during the night it slides 20cm. On the second day, the snail rises 21cm but during the night it slides 20cm, and so on. \n",
    "\n",
    "#### 1. How many days does it take for the snail to escape the well?\n",
    "Follow the same guidelines as in the previous challenge.\n",
    "\n",
    "**Hint**: Remember that the snail gets out of the well when it surpasses the 125cm of height."
   ]
  },
  {
   "cell_type": "code",
   "execution_count": 20,
   "metadata": {},
   "outputs": [
    {
     "name": "stdout",
     "output_type": "stream",
     "text": [
      "l'avancée de l'escargot est égale à 10 le jour numero 1\n",
      "l'avancée de l'escargot est égale à 11 le jour numero 2\n",
      "l'avancée de l'escargot est égale à 24 le jour numero 3\n",
      "l'avancée de l'escargot est égale à 81 le jour numero 4\n",
      "l'avancée de l'escargot est égale à 105 le jour numero 5\n",
      "l'avancée de l'escargot est égale à 130 le jour numero 6\n",
      "l'avancée de l'escargot est égale à 133 le jour numero 7\n",
      "l'avancée de l'escargot est égale à 158 le jour numero 8\n",
      "l'avancée de l'escargot est égale à 150 le jour numero 9\n",
      "l'avancée de l'escargot est égale à 164 le jour numero 10\n",
      "l'avancée de l'escargot est égale à 199 le jour numero 11\n"
     ]
    }
   ],
   "source": [
    "well_height = 125\n",
    ">>> nightly_distance = -20\n",
    ">>> snail_position = 0\n",
    ">>> advance_cm = [30, 21, 33, 77, 44, 45, 23, 45, 12, 34, 55]\n",
    ">>> days = 0\n",
    ">>> for i in advance_cm :\n",
    "        snail_position += (nightly_distance + i)\n",
    "        days += 1\n",
    "        print(\"l'avancée de l'escargot est égale à\", snail_position, \"le jour numero\", days)  \n"
   ]
  },
  {
   "cell_type": "markdown",
   "metadata": {},
   "source": [
    "#### 2. What is its maximum displacement in one day? And its minimum? Calculate the displacement using only the travel distance of the days used to get out of the well. \n",
    "**Hint**: Remember that displacement means the total distance risen taking into account that the snail slides at night.  "
   ]
  },
  {
   "cell_type": "code",
   "execution_count": 222,
   "metadata": {},
   "outputs": [
    {
     "name": "stdout",
     "output_type": "stream",
     "text": [
      "1\n",
      "13\n",
      "57\n",
      "24\n",
      "25\n",
      "3\n",
      "25\n",
      "-8\n",
      "14\n",
      "35\n",
      "le déplacement maximal est de  57 cm\n",
      "le déplacement minimal est de  -8 cm\n"
     ]
    }
   ],
   "source": [
    "displacement = [10, 11, 24, 81, 105, 130, 133, 158, 150, 164, 199]\n",
    "for idx , d in enumerate(displacement):\n",
    "    total = displacement[idx+1]-d\n",
    "    print(total)\n",
    "    if total == 35:\n",
    "        break\n",
    "    \n",
    "total = [1, 13, 57, 24, 25, 3, 25, -8, 14, 35]\n",
    "m = max(total)\n",
    "print(\"le déplacement maximal est de \", m, \"cm\")\n",
    "min = min(total)\n",
    "print(\"le déplacement minimal est de \", min, \"cm\")\n",
    "\n"
   ]
  },
  {
   "cell_type": "markdown",
   "metadata": {},
   "source": [
    "#### 3. What is its average progress? Take into account the snail slides at night."
   ]
  },
  {
   "cell_type": "code",
   "execution_count": 223,
   "metadata": {},
   "outputs": [
    {
     "name": "stdout",
     "output_type": "stream",
     "text": [
      "18.9\n"
     ]
    }
   ],
   "source": [
    "total = [1, 13, 57, 24, 25, 3, 25, -8, 14, 35]\n",
    "moy = sum(total)/len(total)\n",
    "print(moy)"
   ]
  },
  {
   "cell_type": "markdown",
   "metadata": {},
   "source": [
    "#### 4. What is the standard deviation of its displacement? Take into account the snail slides at night."
   ]
  },
  {
   "cell_type": "code",
   "execution_count": 225,
   "metadata": {},
   "outputs": [
    {
     "name": "stdout",
     "output_type": "stream",
     "text": [
      "320.40999999999997\n",
      "34.80999999999998\n",
      "1451.6100000000001\n",
      "26.010000000000016\n",
      "37.210000000000015\n",
      "252.80999999999995\n",
      "37.210000000000015\n",
      "723.6099999999999\n",
      "24.009999999999987\n",
      "259.21000000000004\n"
     ]
    }
   ],
   "source": [
    "total = [1, 13, 57, 24, 25, 3, 25, -8, 14, 35]\n",
    "for s in total:\n",
    "    ecarttype = (s-moy)**2\n",
    "    print(ecarttype)"
   ]
  },
  {
   "cell_type": "code",
   "execution_count": 231,
   "metadata": {},
   "outputs": [
    {
     "name": "stdout",
     "output_type": "stream",
     "text": [
      "le total de l'écart-type est égal à  3166.9\n"
     ]
    }
   ],
   "source": [
    "ecarttype = [320.40999999999997, 34.80999999999998, 1451.6100000000001, 26.010000000000016, 37.210000000000015, 252.80999999999995, 37.210000000000015, \n",
    "723.6099999999999, 24.009999999999987, 259.21000000000004]\n",
    "somme = sum(ecarttype)\n",
    "print(\"le total de l'écart-type est égal à \", somme)"
   ]
  },
  {
   "cell_type": "code",
   "execution_count": 232,
   "metadata": {},
   "outputs": [
    {
     "name": "stdout",
     "output_type": "stream",
     "text": [
      "9\n"
     ]
    }
   ],
   "source": [
    "division = len(ecarttype)-1\n",
    "print(division)"
   ]
  },
  {
   "cell_type": "code",
   "execution_count": 234,
   "metadata": {},
   "outputs": [
    {
     "name": "stdout",
     "output_type": "stream",
     "text": [
      "351.8777777777778\n"
     ]
    }
   ],
   "source": [
    "t = somme/division\n",
    "print(t)"
   ]
  },
  {
   "cell_type": "code",
   "execution_count": 238,
   "metadata": {},
   "outputs": [
    {
     "name": "stdout",
     "output_type": "stream",
     "text": [
      "18.75840552333214\n"
     ]
    }
   ],
   "source": [
    "standarddeviation = pow(t,0.5)\n",
    "print (standarddeviation)"
   ]
  },
  {
   "cell_type": "code",
   "execution_count": 236,
   "metadata": {},
   "outputs": [
    {
     "name": "stdout",
     "output_type": "stream",
     "text": [
      "<built-in function pow>\n"
     ]
    }
   ],
   "source": []
  },
  {
   "cell_type": "code",
   "execution_count": null,
   "metadata": {},
   "outputs": [],
   "source": []
  }
 ],
 "metadata": {
  "kernelspec": {
   "display_name": "Python 3",
   "language": "python",
   "name": "python3"
  },
  "language_info": {
   "codemirror_mode": {
    "name": "ipython",
    "version": 3
   },
   "file_extension": ".py",
   "mimetype": "text/x-python",
   "name": "python",
   "nbconvert_exporter": "python",
   "pygments_lexer": "ipython3",
   "version": "3.8.3"
  }
 },
 "nbformat": 4,
 "nbformat_minor": 2
}
