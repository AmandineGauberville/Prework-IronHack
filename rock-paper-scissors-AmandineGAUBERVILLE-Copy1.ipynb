{
 "cells": [
  {
   "cell_type": "markdown",
   "metadata": {},
   "source": [
    "<img src=\"https://bit.ly/2VnXWr2\" width=\"100\" align=\"left\">"
   ]
  },
  {
   "cell_type": "markdown",
   "metadata": {},
   "source": [
    "# Rock, Paper & Scissors\n",
    "\n",
    "Let's play the famous game against our computer. You can check the rules [here](https://en.wikipedia.org/wiki/Rock%E2%80%93paper%E2%80%93scissors). \n",
    "\n",
    "## Task\n",
    "Create a program that imitates the playability of the well known game of rock, paper, scissors. Follow the guidelines provided.\n",
    "\n",
    "## Tools\n",
    "1. Loop: **for/while**\n",
    "2. Functions: **input(), print()...**\n",
    "3. Conditional statements: **if, elif, else**\n",
    "4. Definition of functions. Modular programming\n",
    "5. Import modules\n",
    "\n",
    "**To solve this challenge, the use of functions is recommended.**\n",
    "\n",
    "#### 1. Import the choice function of the random module."
   ]
  },
  {
   "cell_type": "code",
   "execution_count": 1,
   "metadata": {},
   "outputs": [],
   "source": [
    "from random import choices"
   ]
  },
  {
   "cell_type": "markdown",
   "metadata": {},
   "source": [
    "#### 2. Create a list that includes the 3 possible gesture options of the game: 'rock', 'paper' or 'scissors'. Store the list in a variable called `gestures`."
   ]
  },
  {
   "cell_type": "code",
   "execution_count": 2,
   "metadata": {},
   "outputs": [],
   "source": [
    "gestures = ['rock', 'paper', 'scissors']"
   ]
  },
  {
   "cell_type": "markdown",
   "metadata": {},
   "source": [
    "#### 3. Create a variable called `n_rounds` to store the maximum number of rounds to play in a game. \n",
    "Remember that the number of rounds must be odd: 1, 3, 5, ..."
   ]
  },
  {
   "cell_type": "code",
   "execution_count": 3,
   "metadata": {},
   "outputs": [],
   "source": [
    "n_rounds = 0"
   ]
  },
  {
   "cell_type": "markdown",
   "metadata": {},
   "source": [
    "#### 4. Create a variable called `rounds_to_win` to store the number of rounds that a player must win to win the game.\n",
    "**Hint**: the value stored in `rounds_to_win` depends on the value of `n_rounds`. "
   ]
  },
  {
   "cell_type": "code",
   "execution_count": 4,
   "metadata": {},
   "outputs": [],
   "source": [
    "rounds_to_win = 2"
   ]
  },
  {
   "cell_type": "markdown",
   "metadata": {},
   "source": [
    "#### 5. Create two variables to store the number of rounds that the computer and the player have won. Call these variables `cpu_score` and `player_score`."
   ]
  },
  {
   "cell_type": "code",
   "execution_count": 5,
   "metadata": {},
   "outputs": [],
   "source": [
    "cpu_score = []\n",
    "player_score = []"
   ]
  },
  {
   "cell_type": "markdown",
   "metadata": {},
   "source": [
    "#### 6. Define a function that randomly returns one of the 3 gesture options.\n",
    "You will use this function to simulate the gesture choice of the computer. "
   ]
  },
  {
   "cell_type": "code",
   "execution_count": 6,
   "metadata": {},
   "outputs": [],
   "source": [
    "def cpu_choice():\n",
    "    import random\n",
    "    cpu = random.choice(gestures)\n",
    "    return cpu\n"
   ]
  },
  {
   "cell_type": "markdown",
   "metadata": {},
   "source": [
    "#### 7. Define a function that asks the player which is the gesture he or she wants to show: 'rock', 'paper' or 'scissors'.\n",
    "The player should only be allowed to choose one of the 3 gesture options. If the player's choice is not rock, paper or scissors, keep asking until it is."
   ]
  },
  {
   "cell_type": "code",
   "execution_count": 7,
   "metadata": {},
   "outputs": [],
   "source": [
    "def player_choice():\n",
    "    choice = input(\"Enter the gesture you want rock, paper, scissors ? \")\n",
    "    while choice != gestures[0] and choice != gestures[1] and choice != gestures[2]:\n",
    "        choice = input(\"Enter the gesture you want rock, paper, scissors ? \")\n",
    "    return choice"
   ]
  },
  {
   "cell_type": "markdown",
   "metadata": {},
   "source": [
    "#### 8. Define a function that checks who won a round. \n",
    "The function should return 0 if there is a tie, 1 if the computer wins and 2 if the player wins."
   ]
  },
  {
   "cell_type": "code",
   "execution_count": 8,
   "metadata": {},
   "outputs": [],
   "source": [
    "gagnant1 = {\n",
    "        gestures[0] + \" \" + gestures[1]: \"paper\",\n",
    "        gestures[2] + \" \" + gestures[1]: \"scissors\",\n",
    "        gestures[0] + \" \" + gestures[2]: \"rock\",\n",
    "        gestures[1] + \" \" + gestures[0]: \"paper\",\n",
    "        gestures[1] + \" \" + gestures[2]: \"scissors\",\n",
    "        gestures[2] + \" \" + gestures[0]: \"rock\" }\n",
    "\n",
    "def scores():\n",
    "\n",
    "    c1 = player_choice()\n",
    "    c2 = cpu_choice()\n",
    "    c3 = c1 + \" \" + c2\n",
    "    print(c3)\n",
    "\n",
    "    if c1 == c2:\n",
    "        print(\"égalité !\")\n",
    "        cpu_score.append(0)\n",
    "        player_score.append(0)\n",
    "    elif c1 == gagnant1[c3]:\n",
    "        print(\"Le joueur a gagné ! \")\n",
    "        player_score.append(2)\n",
    "        cpu_score.append(0)\n",
    "    else:\n",
    "        print(\"L'ordinateur a gagné ! \")\n",
    "        player_score.append(0)\n",
    "        cpu_score.append(1)\n",
    "          "
   ]
  },
  {
   "cell_type": "markdown",
   "metadata": {},
   "source": [
    "#### 9. Define a function that prints the choice of the computer, the choice of the player and a message that announces who won the current round. \n",
    "You should also use this function to update the variables that count the number of rounds that the computer and the player have won. The score of the winner increases by one point. If there is a tie, the score does not increase."
   ]
  },
  {
   "cell_type": "markdown",
   "metadata": {},
   "source": [
    "Pas nécessaire"
   ]
  },
  {
   "cell_type": "markdown",
   "metadata": {},
   "source": [
    "#### 10. Now it's time to code the execution of the game using the functions and variables you defined above. \n",
    "\n",
    "First, create a loop structure that repeats while no player reaches the minimum score necessary to win and the number of rounds is less than the maximum number of rounds to play in a game.  \n",
    "\n",
    "Inside the loop, use the functions and variables above to create the execution of a round: ask for the player's choice, generate the random choice of the computer, show the round results, update the scores, etc. "
   ]
  },
  {
   "cell_type": "code",
   "execution_count": null,
   "metadata": {},
   "outputs": [],
   "source": [
    "while len(cpu_score) <= 2 | len(player_score) <= 4 | n_rounds > 2 :\n",
    "    n_rounds += 1\n",
    "    print(\"\\n\",\"ROUND N° \", n_rounds, \"\\n\")\n",
    "    print(\"*********Rock, Paper, Scissors*********\\n\")\n",
    "    scores()\n",
    "    print(\"VOS POINTS :\", sum(player_score),\"         \",\"POINTS DE L'ORDINATEUR :\", sum(cpu_score))"
   ]
  },
  {
   "cell_type": "markdown",
   "metadata": {},
   "source": [
    "#### 11. Print the winner of the game based on who won more rounds.\n",
    "Remember that the game might be tied. "
   ]
  },
  {
   "cell_type": "code",
   "execution_count": 11,
   "metadata": {},
   "outputs": [
    {
     "name": "stdout",
     "output_type": "stream",
     "text": [
      "\n",
      " ROUND N°  1 \n",
      "\n",
      "*********Rock, Paper, Scissors*********\n",
      "\n"
     ]
    },
    {
     "ename": "KeyboardInterrupt",
     "evalue": "Interrupted by user",
     "output_type": "error",
     "traceback": [
      "\u001b[1;31m---------------------------------------------------------------------------\u001b[0m",
      "\u001b[1;31mKeyboardInterrupt\u001b[0m                         Traceback (most recent call last)",
      "\u001b[1;32m<ipython-input-11-90ab451cf598>\u001b[0m in \u001b[0;36m<module>\u001b[1;34m\u001b[0m\n\u001b[0;32m     48\u001b[0m     \u001b[0mprint\u001b[0m\u001b[1;33m(\u001b[0m\u001b[1;34m\"\\n\"\u001b[0m\u001b[1;33m,\u001b[0m\u001b[1;34m\"ROUND N° \"\u001b[0m\u001b[1;33m,\u001b[0m \u001b[0mn_rounds\u001b[0m\u001b[1;33m,\u001b[0m \u001b[1;34m\"\\n\"\u001b[0m\u001b[1;33m)\u001b[0m\u001b[1;33m\u001b[0m\u001b[1;33m\u001b[0m\u001b[0m\n\u001b[0;32m     49\u001b[0m     \u001b[0mprint\u001b[0m\u001b[1;33m(\u001b[0m\u001b[1;34m\"*********Rock, Paper, Scissors*********\\n\"\u001b[0m\u001b[1;33m)\u001b[0m\u001b[1;33m\u001b[0m\u001b[1;33m\u001b[0m\u001b[0m\n\u001b[1;32m---> 50\u001b[1;33m     \u001b[0mscores\u001b[0m\u001b[1;33m(\u001b[0m\u001b[1;33m)\u001b[0m\u001b[1;33m\u001b[0m\u001b[1;33m\u001b[0m\u001b[0m\n\u001b[0m\u001b[0;32m     51\u001b[0m     \u001b[0mprint\u001b[0m\u001b[1;33m(\u001b[0m\u001b[1;34m\"VOS POINTS :\"\u001b[0m\u001b[1;33m,\u001b[0m \u001b[0msum\u001b[0m\u001b[1;33m(\u001b[0m\u001b[0mplayer_score\u001b[0m\u001b[1;33m)\u001b[0m\u001b[1;33m,\u001b[0m\u001b[1;34m\"         \"\u001b[0m\u001b[1;33m,\u001b[0m\u001b[1;34m\"POINTS DE L'ORDINATEUR :\"\u001b[0m\u001b[1;33m,\u001b[0m \u001b[0msum\u001b[0m\u001b[1;33m(\u001b[0m\u001b[0mcpu_score\u001b[0m\u001b[1;33m)\u001b[0m\u001b[1;33m)\u001b[0m\u001b[1;33m\u001b[0m\u001b[1;33m\u001b[0m\u001b[0m\n",
      "\u001b[1;32m<ipython-input-11-90ab451cf598>\u001b[0m in \u001b[0;36mscores\u001b[1;34m()\u001b[0m\n\u001b[0;32m     26\u001b[0m \u001b[1;33m\u001b[0m\u001b[0m\n\u001b[0;32m     27\u001b[0m \u001b[1;32mdef\u001b[0m \u001b[0mscores\u001b[0m\u001b[1;33m(\u001b[0m\u001b[1;33m)\u001b[0m\u001b[1;33m:\u001b[0m\u001b[1;33m\u001b[0m\u001b[1;33m\u001b[0m\u001b[0m\n\u001b[1;32m---> 28\u001b[1;33m     \u001b[0mc1\u001b[0m \u001b[1;33m=\u001b[0m \u001b[0mplayer_choice\u001b[0m\u001b[1;33m(\u001b[0m\u001b[1;33m)\u001b[0m\u001b[1;33m\u001b[0m\u001b[1;33m\u001b[0m\u001b[0m\n\u001b[0m\u001b[0;32m     29\u001b[0m     \u001b[0mc2\u001b[0m \u001b[1;33m=\u001b[0m \u001b[0mcpu_choice\u001b[0m\u001b[1;33m(\u001b[0m\u001b[1;33m)\u001b[0m\u001b[1;33m\u001b[0m\u001b[1;33m\u001b[0m\u001b[0m\n\u001b[0;32m     30\u001b[0m     \u001b[0mc3\u001b[0m \u001b[1;33m=\u001b[0m \u001b[0mc1\u001b[0m \u001b[1;33m+\u001b[0m \u001b[1;34m\" \"\u001b[0m \u001b[1;33m+\u001b[0m \u001b[0mc2\u001b[0m\u001b[1;33m\u001b[0m\u001b[1;33m\u001b[0m\u001b[0m\n",
      "\u001b[1;32m<ipython-input-11-90ab451cf598>\u001b[0m in \u001b[0;36mplayer_choice\u001b[1;34m()\u001b[0m\n\u001b[0;32m     12\u001b[0m \u001b[1;33m\u001b[0m\u001b[0m\n\u001b[0;32m     13\u001b[0m \u001b[1;32mdef\u001b[0m \u001b[0mplayer_choice\u001b[0m\u001b[1;33m(\u001b[0m\u001b[1;33m)\u001b[0m\u001b[1;33m:\u001b[0m\u001b[1;33m\u001b[0m\u001b[1;33m\u001b[0m\u001b[0m\n\u001b[1;32m---> 14\u001b[1;33m     \u001b[0mchoice\u001b[0m \u001b[1;33m=\u001b[0m \u001b[0minput\u001b[0m\u001b[1;33m(\u001b[0m\u001b[1;34m\"Enter the gesture you want rock, paper, scissors ? \"\u001b[0m\u001b[1;33m)\u001b[0m\u001b[1;33m\u001b[0m\u001b[1;33m\u001b[0m\u001b[0m\n\u001b[0m\u001b[0;32m     15\u001b[0m     \u001b[1;32mwhile\u001b[0m \u001b[0mchoice\u001b[0m \u001b[1;33m!=\u001b[0m \u001b[0mgestures\u001b[0m\u001b[1;33m[\u001b[0m\u001b[1;36m0\u001b[0m\u001b[1;33m]\u001b[0m \u001b[1;32mand\u001b[0m \u001b[0mchoice\u001b[0m \u001b[1;33m!=\u001b[0m \u001b[0mgestures\u001b[0m\u001b[1;33m[\u001b[0m\u001b[1;36m1\u001b[0m\u001b[1;33m]\u001b[0m \u001b[1;32mand\u001b[0m \u001b[0mchoice\u001b[0m \u001b[1;33m!=\u001b[0m \u001b[0mgestures\u001b[0m\u001b[1;33m[\u001b[0m\u001b[1;36m2\u001b[0m\u001b[1;33m]\u001b[0m\u001b[1;33m:\u001b[0m\u001b[1;33m\u001b[0m\u001b[1;33m\u001b[0m\u001b[0m\n\u001b[0;32m     16\u001b[0m         \u001b[0mchoice\u001b[0m \u001b[1;33m=\u001b[0m \u001b[0minput\u001b[0m\u001b[1;33m(\u001b[0m\u001b[1;34m\"Enter the gesture you want rock, paper, scissors ? \"\u001b[0m\u001b[1;33m)\u001b[0m\u001b[1;33m\u001b[0m\u001b[1;33m\u001b[0m\u001b[0m\n",
      "\u001b[1;32m~\\Anaconda3\\lib\\site-packages\\ipykernel\\kernelbase.py\u001b[0m in \u001b[0;36mraw_input\u001b[1;34m(self, prompt)\u001b[0m\n\u001b[0;32m    858\u001b[0m                 \u001b[1;34m\"raw_input was called, but this frontend does not support input requests.\"\u001b[0m\u001b[1;33m\u001b[0m\u001b[1;33m\u001b[0m\u001b[0m\n\u001b[0;32m    859\u001b[0m             )\n\u001b[1;32m--> 860\u001b[1;33m         return self._input_request(str(prompt),\n\u001b[0m\u001b[0;32m    861\u001b[0m             \u001b[0mself\u001b[0m\u001b[1;33m.\u001b[0m\u001b[0m_parent_ident\u001b[0m\u001b[1;33m,\u001b[0m\u001b[1;33m\u001b[0m\u001b[1;33m\u001b[0m\u001b[0m\n\u001b[0;32m    862\u001b[0m             \u001b[0mself\u001b[0m\u001b[1;33m.\u001b[0m\u001b[0m_parent_header\u001b[0m\u001b[1;33m,\u001b[0m\u001b[1;33m\u001b[0m\u001b[1;33m\u001b[0m\u001b[0m\n",
      "\u001b[1;32m~\\Anaconda3\\lib\\site-packages\\ipykernel\\kernelbase.py\u001b[0m in \u001b[0;36m_input_request\u001b[1;34m(self, prompt, ident, parent, password)\u001b[0m\n\u001b[0;32m    902\u001b[0m             \u001b[1;32mexcept\u001b[0m \u001b[0mKeyboardInterrupt\u001b[0m\u001b[1;33m:\u001b[0m\u001b[1;33m\u001b[0m\u001b[1;33m\u001b[0m\u001b[0m\n\u001b[0;32m    903\u001b[0m                 \u001b[1;31m# re-raise KeyboardInterrupt, to truncate traceback\u001b[0m\u001b[1;33m\u001b[0m\u001b[1;33m\u001b[0m\u001b[1;33m\u001b[0m\u001b[0m\n\u001b[1;32m--> 904\u001b[1;33m                 \u001b[1;32mraise\u001b[0m \u001b[0mKeyboardInterrupt\u001b[0m\u001b[1;33m(\u001b[0m\u001b[1;34m\"Interrupted by user\"\u001b[0m\u001b[1;33m)\u001b[0m \u001b[1;32mfrom\u001b[0m \u001b[1;32mNone\u001b[0m\u001b[1;33m\u001b[0m\u001b[1;33m\u001b[0m\u001b[0m\n\u001b[0m\u001b[0;32m    905\u001b[0m             \u001b[1;32mexcept\u001b[0m \u001b[0mException\u001b[0m \u001b[1;32mas\u001b[0m \u001b[0me\u001b[0m\u001b[1;33m:\u001b[0m\u001b[1;33m\u001b[0m\u001b[1;33m\u001b[0m\u001b[0m\n\u001b[0;32m    906\u001b[0m                 \u001b[0mself\u001b[0m\u001b[1;33m.\u001b[0m\u001b[0mlog\u001b[0m\u001b[1;33m.\u001b[0m\u001b[0mwarning\u001b[0m\u001b[1;33m(\u001b[0m\u001b[1;34m\"Invalid Message:\"\u001b[0m\u001b[1;33m,\u001b[0m \u001b[0mexc_info\u001b[0m\u001b[1;33m=\u001b[0m\u001b[1;32mTrue\u001b[0m\u001b[1;33m)\u001b[0m\u001b[1;33m\u001b[0m\u001b[1;33m\u001b[0m\u001b[0m\n",
      "\u001b[1;31mKeyboardInterrupt\u001b[0m: Interrupted by user"
     ]
    }
   ],
   "source": [
    "gestures = ['rock', 'paper', 'scissors']\n",
    "n_rounds = 0\n",
    "rounds_to_win = 2\n",
    "\n",
    "cpu_score = []\n",
    "player_score = []\n",
    "\n",
    "def cpu_choice():\n",
    "    import random\n",
    "    cpu = random.choice(gestures)\n",
    "    return cpu\n",
    "\n",
    "def player_choice():\n",
    "    choice = input(\"Enter the gesture you want rock, paper, scissors ? \")\n",
    "    while choice != gestures[0] and choice != gestures[1] and choice != gestures[2]:\n",
    "        choice = input(\"Enter the gesture you want rock, paper, scissors ? \")\n",
    "    return choice\n",
    "\n",
    "gagnant1 = {\n",
    "        gestures[0] + \" \" + gestures[1]: \"paper\",\n",
    "        gestures[2] + \" \" + gestures[1]: \"scissors\",\n",
    "        gestures[0] + \" \" + gestures[2]: \"rock\",\n",
    "        gestures[1] + \" \" + gestures[0]: \"paper\",\n",
    "        gestures[1] + \" \" + gestures[2]: \"scissors\",\n",
    "        gestures[2] + \" \" + gestures[0]: \"rock\" }\n",
    "\n",
    "def scores():\n",
    "    c1 = player_choice()\n",
    "    c2 = cpu_choice()\n",
    "    c3 = c1 + \" \" + c2\n",
    "    print(c3)\n",
    "    if c1 == c2:\n",
    "        print(\"égalité !\")\n",
    "        cpu_score.append(0)\n",
    "        player_score.append(0)\n",
    "    elif c1 == gagnant1[c3]:\n",
    "        print(\"Le joueur a gagné ! \")\n",
    "        player_score.append(2)\n",
    "        cpu_score.append(0)\n",
    "    else:\n",
    "        print(\"L'ordinateur a gagné ! \")\n",
    "        player_score.append(0)\n",
    "        cpu_score.append(1)\n",
    "    \n",
    "    \n",
    "while len(cpu_score) <= 2 | len(player_score) <= 4 | n_rounds > 2 :\n",
    "    n_rounds += 1\n",
    "    print(\"\\n\",\"ROUND N° \", n_rounds, \"\\n\")\n",
    "    print(\"*********Rock, Paper, Scissors*********\\n\")\n",
    "    scores()\n",
    "    print(\"VOS POINTS :\", sum(player_score),\"         \",\"POINTS DE L'ORDINATEUR :\", sum(cpu_score))"
   ]
  },
  {
   "cell_type": "markdown",
   "metadata": {},
   "source": [
    "# Bonus: Rock, Paper, Scissors, Lizard & Spock\n",
    "![](images/rpsls.jpg)\n",
    "\n",
    "In this challenge, you need to improve the previous game by adding two new options. To know more about the rules of the improved version of rock, paper, scissors, check this [link](http://www.samkass.com/theories/RPSSL.html). \n",
    "\n",
    "In addition, you will also need to improve how the game interacts with the player: the number of rounds to play, which must be an odd number, will be requested to the user until a valid number is entered. Define a new function to make that request.\n",
    "\n",
    "**Hint**: Try to reuse the code that you already coded in the previous challenge. If your code is efficient, this bonus will only consist of simple modifications to the original game."
   ]
  },
  {
   "cell_type": "code",
   "execution_count": 14,
   "metadata": {},
   "outputs": [
    {
     "name": "stdout",
     "output_type": "stream",
     "text": [
      "\n",
      " ROUND N°  1 \n",
      "\n",
      "*********Rock, Paper, Scissors, Spock, Lizard*********\n",
      "\n",
      "Enter the gesture you want rock, paper, scissors, spock, lizard ? lizard\n",
      "lizard scissors\n",
      "L'ordinateur a gagné ! \n",
      "VOS POINTS : 0           POINTS DE L'ORDINATEUR : 1\n",
      "\n",
      " ROUND N°  2 \n",
      "\n",
      "*********Rock, Paper, Scissors, Spock, Lizard*********\n",
      "\n",
      "Enter the gesture you want rock, paper, scissors, spock, lizard ? lizard\n",
      "lizard scissors\n",
      "L'ordinateur a gagné ! \n",
      "VOS POINTS : 0           POINTS DE L'ORDINATEUR : 2\n",
      "\n",
      " ROUND N°  3 \n",
      "\n",
      "*********Rock, Paper, Scissors, Spock, Lizard*********\n",
      "\n",
      "Enter the gesture you want rock, paper, scissors, spock, lizard ? scissors\n",
      "scissors rock\n",
      "L'ordinateur a gagné ! \n",
      "VOS POINTS : 0           POINTS DE L'ORDINATEUR : 3\n",
      "\n",
      " ROUND N°  4 \n",
      "\n",
      "*********Rock, Paper, Scissors, Spock, Lizard*********\n",
      "\n",
      "Enter the gesture you want rock, paper, scissors, spock, lizard ? scissors\n",
      "scissors scissors\n",
      "égalité !\n",
      "VOS POINTS : 0           POINTS DE L'ORDINATEUR : 3\n"
     ]
    }
   ],
   "source": [
    "gestures = ['rock', 'paper', 'scissors', 'spock', 'lizard']\n",
    "n_rounds = 0\n",
    "rounds_to_win = 2\n",
    "\n",
    "cpu_score = []\n",
    "player_score = []\n",
    "\n",
    "def cpu_choice():\n",
    "    import random\n",
    "    cpu = random.choice(gestures)\n",
    "    return cpu\n",
    "\n",
    "def player_choice():\n",
    "    choice = input(\"Enter the gesture you want rock, paper, scissors, spock, lizard ? \")\n",
    "    while choice != gestures[0] and choice != gestures[1] and choice != gestures[2] and choice != gestures[3] and choice != gestures[4]:\n",
    "        choice = input(\"Enter the gesture you want rock, paper, scissors ? \")\n",
    "    return choice\n",
    "\n",
    "gagnant1 = {\n",
    "        gestures[0] + \" \" + gestures[1]: \"paper\",\n",
    "        gestures[2] + \" \" + gestures[1]: \"scissors\",\n",
    "        gestures[0] + \" \" + gestures[2]: \"rock\",\n",
    "        gestures[1] + \" \" + gestures[0]: \"paper\",\n",
    "        gestures[1] + \" \" + gestures[2]: \"scissors\",\n",
    "        gestures[2] + \" \" + gestures[0]: \"rock\",\n",
    "        gestures[4] + \" \" + gestures[3]: \"lizard\",\n",
    "        gestures[3] + \" \" + gestures[4]: \"lizard\",\n",
    "        gestures[3] + \" \" + gestures[2]: \"spock\",\n",
    "        gestures[2] + \" \" + gestures[3]: \"spock\",\n",
    "        gestures[2] + \" \" + gestures[4]: \"scissors\",\n",
    "        gestures[4] + \" \" + gestures[2]: \"scissors\",\n",
    "        gestures[4] + \" \" + gestures[1]: \"lizard\",\n",
    "        gestures[1] + \" \" + gestures[4]: \"lizard\",\n",
    "        gestures[1] + \" \" + gestures[3]: \"paper\",\n",
    "        gestures[1] + \" \" + gestures[1]: \"paper\",\n",
    "        gestures[3] + \" \" + gestures[0]: \"spock\",\n",
    "        gestures[0] + \" \" + gestures[3]: \"spock\",\n",
    "        gestures[0] + \" \" + gestures[4]: \"rock\",\n",
    "        gestures[4] + \" \" + gestures[0]: \"rock\" }\n",
    "\n",
    "def scores():\n",
    "    c1 = player_choice()\n",
    "    c2 = cpu_choice()\n",
    "    c3 = c1 + \" \" + c2\n",
    "    print(c3)\n",
    "    if c1 == c2:\n",
    "        print(\"égalité !\")\n",
    "        cpu_score.append(0)\n",
    "        player_score.append(0)\n",
    "    elif c1 == gagnant1[c3]:\n",
    "        print(\"Le joueur a gagné ! \")\n",
    "        player_score.append(2)\n",
    "        cpu_score.append(0)\n",
    "    else:\n",
    "        print(\"L'ordinateur a gagné ! \")\n",
    "        player_score.append(0)\n",
    "        cpu_score.append(1)\n",
    "    \n",
    "    \n",
    "while len(cpu_score) <= 2 | len(player_score) <= 4 | n_rounds > 2 :\n",
    "    n_rounds += 1\n",
    "    print(\"\\n\",\"ROUND N° \", n_rounds, \"\\n\")\n",
    "    print(\"*********Rock, Paper, Scissors, Spock, Lizard*********\\n\")\n",
    "    scores()\n",
    "    print(\"VOS POINTS :\", sum(player_score),\"         \",\"POINTS DE L'ORDINATEUR :\", sum(cpu_score))"
   ]
  },
  {
   "cell_type": "code",
   "execution_count": null,
   "metadata": {},
   "outputs": [],
   "source": []
  }
 ],
 "metadata": {
  "kernelspec": {
   "display_name": "Python 3",
   "language": "python",
   "name": "python3"
  },
  "language_info": {
   "codemirror_mode": {
    "name": "ipython",
    "version": 3
   },
   "file_extension": ".py",
   "mimetype": "text/x-python",
   "name": "python",
   "nbconvert_exporter": "python",
   "pygments_lexer": "ipython3",
   "version": "3.8.5"
  }
 },
 "nbformat": 4,
 "nbformat_minor": 2
}
