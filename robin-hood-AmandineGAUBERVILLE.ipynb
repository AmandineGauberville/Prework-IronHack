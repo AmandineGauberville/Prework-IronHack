{
 "cells": [
  {
   "cell_type": "markdown",
   "metadata": {},
   "source": [
    "<img src=\"https://bit.ly/2VnXWr2\" width=\"100\" align=\"left\"/>"
   ]
  },
  {
   "cell_type": "markdown",
   "metadata": {},
   "source": [
    "# Robin Hood\n",
    "Robin Hood has entered a competition to win the archery contest in Sherwood. With his bow and arrows, he needs to shoot on a target and try to hit as close as possible to the center.\n",
    "\n",
    "![](images/arrows.jpg)\n",
    "\n",
    "## Context\n",
    "In this challenge, the landing position of arrows shot by archers in the competition will be represented using 2-dimensional coordinates. \n",
    "\n",
    "In the 2-dimensional space, a point can be defined by a pair of values that correspond to the horizontal coordinate (x) and the vertical coordinate (y). For example, in our case, an arrow that hits the center of the archery target will land in position (0, 0) on the coordinate axes. \n",
    "\n",
    "The space can be divided into 4 zones (quadrants): Q1, Q2, Q3, Q4. If a point is in Q1, both its x coordinate and y coordinate are positive. Any point with a null x or y coordinate is considered to not belong to any quadrant. \n",
    "\n",
    "If you want to know more about the cartesian coordinate system, you can check this [link](https://en.wikipedia.org/wiki/Cartesian_coordinate_system). \n",
    "\n",
    "## Tools\n",
    "You don't necessarily need to use all the tools. Maybe you opt to use some of them or completely different ones, they are given to help you shape the exercise. Programming exercises can be solved in many different ways.\n",
    "* Data structures: **lists, sets, tuples**\n",
    "* Conditional statements: **if-elif-else**\n",
    "* Loop: **while/for**\n",
    "* Minimum (optional sorting)\n",
    "\n",
    "## Tasks\n",
    "Robin Hood has hit the following points:"
   ]
  },
  {
   "cell_type": "code",
   "execution_count": null,
   "metadata": {},
   "outputs": [],
   "source": [
    "points = [(4, 5), (-0, 2), (4, 7), (1, -3), (3, -2), (4, 5), (3, 2), (5, 7), (-5, 7), (2, 2), (-4, 5), (0, -2),\n",
    "          (-4, 7), (-1, 3), (-3, 2), (-4, -5), (-3, 2), (5, 7), (5, 7), (2, 2), (9, 9), (-8, -9)]"
   ]
  },
  {
   "cell_type": "markdown",
   "metadata": {},
   "source": [
    "#### 1. Robin Hood is famous for hitting an arrow with another arrow. Find the coordinates of the points where an arrow hits another arrow."
   ]
  },
  {
   "cell_type": "code",
   "execution_count": 33,
   "metadata": {
    "scrolled": true
   },
   "outputs": [
    {
     "name": "stdout",
     "output_type": "stream",
     "text": [
      "tir n°  1 score égal à  1\n",
      "tir n°  2 score égal à  2\n",
      "tir n°  3 score égal à  3\n",
      "tir n°  4 score égal à  -4\n",
      "tir n°  5 score égal à  -5\n",
      "tir n°  6 score égal à  1\n",
      "tir n°  7 score égal à  -1\n",
      "tir n°  8 score égal à  2\n",
      "tir n°  9 score égal à  12\n",
      "tir n°  10 score égal à  0\n",
      "tir n°  11 score égal à  9\n",
      "tir n°  12 score égal à  -2\n",
      "tir n°  13 score égal à  11\n",
      "tir n°  14 score égal à  4\n",
      "tir n°  15 score égal à  5\n",
      "tir n°  16 score égal à  -1\n",
      "tir n°  17 score égal à  5\n",
      "tir n°  18 score égal à  2\n",
      "tir n°  19 score égal à  2\n",
      "tir n°  20 score égal à  0\n",
      "tir n°  21 score égal à  0\n",
      "tir n°  22 score égal à  -1\n"
     ]
    }
   ],
   "source": [
    "points = [(4, 5), (-0, 2), (4, 7), (1, -3), (3, -2), (4, 5), (3, 2), (5, 7), (-5, 7), (2, 2), (-4, 5), (0, -2),\n",
    "          (-4, 7), (-1, 3), (-3, 2), (-4, -5), (-3, 2), (5, 7), (5, 7), (2, 2), (9, 9), (-8, -9)]\n",
    "\n",
    "score = 0\n",
    "tir = 0\n",
    "\n",
    "for (x,y) in points:\n",
    "    score = y - x\n",
    "    tir += 1\n",
    "    print(\"tir n° \", tir, \"score équivalent à \", score)\n"
   ]
  },
  {
   "cell_type": "markdown",
   "metadata": {},
   "source": [
    "#### 2. Calculate how many arrows have fallen in each quadrant. \n",
    "**Note**: the arrows that fall in the axis (x=0 or y=0) don't belong to any quadrant."
   ]
  },
  {
   "cell_type": "code",
   "execution_count": 20,
   "metadata": {},
   "outputs": [
    {
     "name": "stdout",
     "output_type": "stream",
     "text": [
      "Le quadrant Q1 comprend  10 flèches\n",
      "Le quadrant Q4 comprend  2 flèches\n",
      "Le quadrant Q3 comprend  2 flèches\n",
      "Le quadrant Q2 comprend  6 flèches\n"
     ]
    }
   ],
   "source": [
    "points = [(4, 5), (-0, 2), (4, 7), (1, -3), (3, -2), (4, 5), (3, 2), (5, 7), (-5, 7), (2, 2), (-4, 5), (0, -2),\n",
    "          (-4, 7), (-1, 3), (-3, 2), (-4, -5), (-3, 2), (5, 7), (5, 7), (2, 2), (9, 9), (-8, -9)]\n",
    "Q1 = 0\n",
    "Q2 = 0\n",
    "Q3 = 0\n",
    "Q4 = 0\n",
    "\n",
    "for (x,y) in points:\n",
    "    if (x>0) & (y>0):\n",
    "        Q1 += 1\n",
    "    else:\n",
    "        Q1 += 0\n",
    "print(\"Le quadrant Q1 comprend \", Q1, \"flèches\")\n",
    "for (x,y) in points:\n",
    "    if (x>0) & (y<0):\n",
    "        Q4 += 1\n",
    "    else:\n",
    "        Q4 += 0\n",
    "print(\"Le quadrant Q4 comprend \", Q4, \"flèches\")\n",
    "for (x,y) in points:\n",
    "    if (x<0) & (y<0):\n",
    "        Q3 += 1\n",
    "    else:\n",
    "        Q3 += 0\n",
    "print(\"Le quadrant Q3 comprend \", Q3, \"flèches\")\n",
    "for (x,y) in points:\n",
    "    if (x<0) & (y>0):\n",
    "        Q2 += 1\n",
    "    else:\n",
    "        Q2 += 0\n",
    "print(\"Le quadrant Q2 comprend \", Q2, \"flèches\")\n",
    "        \n",
    "        "
   ]
  },
  {
   "cell_type": "markdown",
   "metadata": {},
   "source": [
    "#### 3. Find the point closest to the center. Calculate its distance to the center. \n",
    "Take into account that there might be more than one point at the minimum distance to the center.\n",
    "\n",
    "**Hint**: Use the Euclidean distance. You can find more information about it [here](https://en.wikipedia.org/wiki/Euclidean_distance).  \n",
    "**Hint**: Defining a function that calculates the distance to the center can help."
   ]
  },
  {
   "cell_type": "code",
   "execution_count": 52,
   "metadata": {},
   "outputs": [
    {
     "name": "stdout",
     "output_type": "stream",
     "text": [
      "La distance de la flèche du tir n°  1 est égale à  41\n",
      "La distance de la flèche du tir n°  2 est égale à  4\n",
      "La distance de la flèche du tir n°  3 est égale à  65\n",
      "La distance de la flèche du tir n°  4 est égale à  10\n",
      "La distance de la flèche du tir n°  5 est égale à  13\n",
      "La distance de la flèche du tir n°  6 est égale à  41\n",
      "La distance de la flèche du tir n°  7 est égale à  13\n",
      "La distance de la flèche du tir n°  8 est égale à  74\n",
      "La distance de la flèche du tir n°  9 est égale à  74\n",
      "La distance de la flèche du tir n°  10 est égale à  8\n",
      "La distance de la flèche du tir n°  11 est égale à  41\n",
      "La distance de la flèche du tir n°  12 est égale à  4\n",
      "La distance de la flèche du tir n°  13 est égale à  65\n",
      "La distance de la flèche du tir n°  14 est égale à  10\n",
      "La distance de la flèche du tir n°  15 est égale à  13\n",
      "La distance de la flèche du tir n°  16 est égale à  41\n",
      "La distance de la flèche du tir n°  17 est égale à  13\n",
      "La distance de la flèche du tir n°  18 est égale à  74\n",
      "La distance de la flèche du tir n°  19 est égale à  74\n",
      "La distance de la flèche du tir n°  20 est égale à  8\n",
      "La distance de la flèche du tir n°  21 est égale à  162\n",
      "La distance de la flèche du tir n°  22 est égale à  145\n",
      "il y a 2 flèches à égal distance aux tirs n°2 et 12\n"
     ]
    }
   ],
   "source": [
    "points = [(4, 5), (-0, 2), (4, 7), (1, -3), (3, -2), (4, 5), (3, 2), (5, 7), (-5, 7), (2, 2), (-4, 5), (0, -2),\n",
    "          (-4, 7), (-1, 3), (-3, 2), (-4, -5), (-3, 2), (5, 7), (5, 7), (2, 2), (9, 9), (-8, -9)]\n",
    "tir = 0\n",
    "for (x,y) in points:\n",
    "    distance = (x**2)+(y**2)\n",
    "    tir += 1\n",
    "    print(\"La distance de la flèche du tir n° \", tir, \"est égale à \", distance)\n",
    "    \n",
    "print(\"il y a 2 flèches à égale distance aux tirs n°2 et 12\")"
   ]
  },
  {
   "cell_type": "markdown",
   "metadata": {},
   "source": [
    "#### 4. If the archery target has a radius of 9, calculate the number of arrows that won't hit the target. \n",
    "**Hint**: Use the function created in step 3. "
   ]
  },
  {
   "cell_type": "code",
   "execution_count": 53,
   "metadata": {},
   "outputs": [
    {
     "name": "stdout",
     "output_type": "stream",
     "text": [
      "La distance de la flèche du tir n°  1 est égale à  41\n",
      "La distance de la flèche du tir n°  2 est égale à  130\n",
      "La distance de la flèche du tir n°  3 est égale à  29\n",
      "La distance de la flèche du tir n°  4 est égale à  208\n",
      "La distance de la flèche du tir n°  5 est égale à  157\n",
      "La distance de la flèche du tir n°  6 est égale à  41\n",
      "La distance de la flèche du tir n°  7 est égale à  85\n",
      "La distance de la flèche du tir n°  8 est égale à  20\n",
      "La distance de la flèche du tir n°  9 est égale à  200\n",
      "La distance de la flèche du tir n°  10 est égale à  98\n",
      "La distance de la flèche du tir n°  11 est égale à  185\n",
      "La distance de la flèche du tir n°  12 est égale à  202\n",
      "La distance de la flèche du tir n°  13 est égale à  173\n",
      "La distance de la flèche du tir n°  14 est égale à  136\n",
      "La distance de la flèche du tir n°  15 est égale à  193\n",
      "La distance de la flèche du tir n°  16 est égale à  365\n",
      "La distance de la flèche du tir n°  17 est égale à  193\n",
      "La distance de la flèche du tir n°  18 est égale à  20\n",
      "La distance de la flèche du tir n°  19 est égale à  20\n",
      "La distance de la flèche du tir n°  20 est égale à  98\n",
      "La distance de la flèche du tir n°  21 est égale à  0\n",
      "La distance de la flèche du tir n°  22 est égale à  613\n"
     ]
    }
   ],
   "source": [
    "points = [(4, 5), (-0, 2), (4, 7), (1, -3), (3, -2), (4, 5), (3, 2), (5, 7), (-5, 7), (2, 2), (-4, 5), (0, -2),\n",
    "          (-4, 7), (-1, 3), (-3, 2), (-4, -5), (-3, 2), (5, 7), (5, 7), (2, 2), (9, 9), (-8, -9)]\n",
    "tir = 0\n",
    "for (x,y) in points:\n",
    "    distance = ((x-9)**2)+((y-9)**2)\n",
    "    tir += 1\n",
    "    print(\"La distance de la flèche du tir n° \", tir, \"est égale à \", distance)"
   ]
  },
  {
   "cell_type": "code",
   "execution_count": 57,
   "metadata": {},
   "outputs": [
    {
     "name": "stdout",
     "output_type": "stream",
     "text": [
      "cibles non atteintes :  21\n"
     ]
    }
   ],
   "source": [
    "distance = [41,130,29,208,157,41,85,20,200,98,185,202,173,136,193,365,193,20,20,98,0,613]\n",
    "nonatteint = 1\n",
    "for d in distance:\n",
    "    if d != 0:\n",
    "        nonatteint += 1\n",
    "    else:\n",
    "        print(\"cibles non atteintes : \", nonatteint)\n",
    "    "
   ]
  },
  {
   "cell_type": "code",
   "execution_count": null,
   "metadata": {},
   "outputs": [],
   "source": []
  }
 ],
 "metadata": {
  "kernelspec": {
   "display_name": "Python 3",
   "language": "python",
   "name": "python3"
  },
  "language_info": {
   "codemirror_mode": {
    "name": "ipython",
    "version": 3
   },
   "file_extension": ".py",
   "mimetype": "text/x-python",
   "name": "python",
   "nbconvert_exporter": "python",
   "pygments_lexer": "ipython3",
   "version": "3.8.3"
  }
 },
 "nbformat": 4,
 "nbformat_minor": 2
}
