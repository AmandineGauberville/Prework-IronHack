{
 "cells": [
  {
   "cell_type": "markdown",
   "metadata": {},
   "source": [
    "<img src=\"https://bit.ly/2VnXWr2\" width=\"100\" align=\"left\">"
   ]
  },
  {
   "cell_type": "markdown",
   "metadata": {},
   "source": [
    "# Temperature Sensor\n",
    "\n",
    "There is a temperature sensor in the processor of your company's server. The company wants to analyze the data provided by the sensor to decide if they should change the cooling system for a better one. As changing the cooling system is expensive and you are an excellent data analyst, you can't make a decision without basis.\n",
    "\n",
    "## Tools\n",
    "You don't necessarily need to use all the tools. Maybe you opt to use some of them or completely different ones, they are given to help you shape the exercise. Programming exercises can be solved in many different ways.\n",
    "1. Data structures: **lists**\n",
    "2. Loops: **list comprehension**\n",
    "3. Functions: **min, max, print, len**\n",
    "4. Conditional statements: **if-elif-else**\n",
    "\n",
    "## Tasks\n",
    "The temperatures measured throughout the 24 hours of a day are:"
   ]
  },
  {
   "cell_type": "code",
   "execution_count": null,
   "metadata": {},
   "outputs": [],
   "source": [
    "temperatures_C = [33, 66, 65, 0, 59, 60, 62, 64, 70, 76, 80, 81, 80, 83, 90, 79, 61, 53, 50, 49, 53, 48, 45, 39]"
   ]
  },
  {
   "cell_type": "markdown",
   "metadata": {},
   "source": [
    "The first element of the list is the temperature at 12am, the second element is the temperature at 1am, and so on. \n",
    "\n",
    "The company has decided that if one of the following events occurs, then the cooling system needs to be replaced for a new one to avoid damaging the processor.\n",
    "* More than 4 temperatures are greater than or equal to 70ºC.\n",
    "* Any temperature is above 80ºC.\n",
    "* The average temperature exceeds 65ºC.\n",
    "\n",
    "Follow the steps so that you can make the decision.\n",
    "\n",
    "#### 1. Find the minimum temperature of the day and store it in a variable."
   ]
  },
  {
   "cell_type": "code",
   "execution_count": 2,
   "metadata": {},
   "outputs": [
    {
     "name": "stdout",
     "output_type": "stream",
     "text": [
      "0\n"
     ]
    }
   ],
   "source": [
    "temperatures_C = [33, 66, 65, 0, 59, 60, 62, 64, 70, 76, 80, 81, 80, 83, 90, 79, 61, 53, 50, 49, 53, 48, 45, 39]\n",
    "min = min(temperatures_C)\n",
    "print(min)"
   ]
  },
  {
   "cell_type": "markdown",
   "metadata": {},
   "source": [
    "#### 2. Find the maximum temperature of the day and store it in a variable."
   ]
  },
  {
   "cell_type": "code",
   "execution_count": 1,
   "metadata": {},
   "outputs": [
    {
     "name": "stdout",
     "output_type": "stream",
     "text": [
      "90\n"
     ]
    }
   ],
   "source": [
    "temperatures_C = [33, 66, 65, 0, 59, 60, 62, 64, 70, 76, 80, 81, 80, 83, 90, 79, 61, 53, 50, 49, 53, 48, 45, 39]\n",
    "max = max(temperatures_C)\n",
    "print(max)"
   ]
  },
  {
   "cell_type": "code",
   "execution_count": 8,
   "metadata": {},
   "outputs": [
    {
     "name": "stdout",
     "output_type": "stream",
     "text": [
      "inférieur\n",
      "inférieur\n",
      "inférieur\n",
      "inférieur\n",
      "inférieur\n",
      "inférieur\n",
      "inférieur\n",
      "inférieur\n",
      "inférieur\n",
      "inférieur\n",
      "inférieur\n",
      "inférieur\n",
      "inférieur\n",
      "inférieur\n",
      "inférieur\n",
      "inférieur\n",
      "[70, 76, 80, 81, 80, 83, 90, 79]\n"
     ]
    }
   ],
   "source": [
    "temperatures_C = [33, 66, 65, 0, 59, 60, 62, 64, 70, 76, 80, 81, 80, 83, 90, 79, 61, 53, 50, 49, 53, 48, 45, 39]\n",
    "greater = []\n",
    "hour = 0\n",
    "for x in temperatures_C:\n",
    "    hour += 1\n",
    "    if (x >= 70):\n",
    "        greater.append(x)\n",
    "    else:\n",
    "        print(\"inférieur\")\n",
    "        \n",
    "print(greater)"
   ]
  },
  {
   "cell_type": "markdown",
   "metadata": {},
   "source": [
    "#### 3. Create a list with the temperatures that are greater than or equal to 70ºC. Store it in a variable."
   ]
  },
  {
   "cell_type": "markdown",
   "metadata": {},
   "source": [
    "#### 4. Find the average temperature of the day and store it in a variable."
   ]
  },
  {
   "cell_type": "code",
   "execution_count": 9,
   "metadata": {},
   "outputs": [
    {
     "name": "stdout",
     "output_type": "stream",
     "text": [
      "60.25\n"
     ]
    }
   ],
   "source": [
    "temperatures_C = [33, 66, 65, 0, 59, 60, 62, 64, 70, 76, 80, 81, 80, 83, 90, 79, 61, 53, 50, 49, 53, 48, 45, 39]\n",
    "moy = sum(temperatures_C)/len(temperatures_C)\n",
    "print(moy)"
   ]
  },
  {
   "cell_type": "markdown",
   "metadata": {},
   "source": [
    "#### 5. Imagine that there was a sensor failure at 3am and the data for that specific hour was not recorded. How would you estimate the missing value? Replace the current value of the list at 3am for an estimation. "
   ]
  },
  {
   "cell_type": "code",
   "execution_count": 12,
   "metadata": {},
   "outputs": [
    {
     "name": "stdout",
     "output_type": "stream",
     "text": [
      "[33, 66, 65, 60.25, 59, 60, 62, 64, 70, 76, 80, 81, 80, 83, 90, 79, 61, 53, 50, 49, 53, 48, 45, 39]\n"
     ]
    }
   ],
   "source": [
    "temperatures_C = [33, 66, 65, 0, 59, 60, 62, 64, 70, 76, 80, 81, 80, 83, 90, 79, 61, 53, 50, 49, 53, 48, 45, 39]\n",
    "del temperatures_C[3]\n",
    "temperatures_C.insert(3,60.25)\n",
    "print(temperatures_C)"
   ]
  },
  {
   "cell_type": "markdown",
   "metadata": {},
   "source": [
    "#### 6. Bonus: the maintenance staff is from the United States and does not understand the international metric system. Help them by converting the temperatures from Celsius to Fahrenheit.\n",
    "To know more about temperature conversion check this [link](https://en.wikipedia.org/wiki/Conversion_of_units_of_temperature).\n",
    "\n",
    "**Formula**: \n",
    "\n",
    "$F = 1.8 * C + 32$"
   ]
  },
  {
   "cell_type": "code",
   "execution_count": 13,
   "metadata": {},
   "outputs": [
    {
     "name": "stdout",
     "output_type": "stream",
     "text": [
      "91.4\n",
      "150.8\n",
      "149.0\n",
      "140.45\n",
      "138.2\n",
      "140.0\n",
      "143.60000000000002\n",
      "147.2\n",
      "158.0\n",
      "168.8\n",
      "176.0\n",
      "177.8\n",
      "176.0\n",
      "181.4\n",
      "194.0\n",
      "174.20000000000002\n",
      "141.8\n",
      "127.4\n",
      "122.0\n",
      "120.2\n",
      "127.4\n",
      "118.4\n",
      "113.0\n",
      "102.2\n"
     ]
    }
   ],
   "source": [
    "temperatures_C = [33, 66, 65, 60.25, 59, 60, 62, 64, 70, 76, 80, 81, 80, 83, 90, 79, 61, 53, 50, 49, 53, 48, 45, 39]\n",
    "for c in temperatures_C:\n",
    "    fahrenheit = 1.8*c+32\n",
    "    print(fahrenheit)"
   ]
  },
  {
   "cell_type": "markdown",
   "metadata": {},
   "source": [
    "#### 7. Make a decision!\n",
    "Now it's time to make a decision taking into account what you have seen until now. \n",
    "\n",
    "Remember that if one of the following events occurs, then the cooling system needs to be replaced for a new one to avoid damaging the processor.\n",
    "* More than 4 temperatures are greater than or equal to 70ºC.\n",
    "* Any temperature is above 80ºC.\n",
    "* The average temperature exceeds 65ºC.\n",
    "\n",
    "#### To make your decision, check if any of the three conditions above is met. You might need to use some of the variables you created in steps 1 to 6. Print a message to show if the cooling system needs to be changed or not."
   ]
  },
  {
   "cell_type": "code",
   "execution_count": 23,
   "metadata": {},
   "outputs": [
    {
     "name": "stdout",
     "output_type": "stream",
     "text": [
      "RAS\n",
      "RAS\n",
      "RAS\n",
      "RAS\n",
      "RAS\n",
      "RAS\n",
      "RAS\n",
      "RAS\n",
      "9 hour : The cooling system needs to be changed\n",
      "10 hour : The cooling system needs to be changed\n",
      "11 hour : The cooling system needs to be changed\n",
      "12 hour : The cooling system needs to be changed\n",
      "13 hour : The cooling system needs to be changed\n",
      "14 hour : The cooling system needs to be changed\n",
      "15 hour : The cooling system needs to be changed\n",
      "16 hour : The cooling system needs to be changed\n",
      "RAS\n",
      "RAS\n",
      "RAS\n",
      "RAS\n",
      "RAS\n",
      "RAS\n",
      "RAS\n",
      "RAS\n"
     ]
    }
   ],
   "source": [
    "temperatures_F = [91.4,150.8,149.0,140.45,138.2,140.0,143.60000000000002,147.2,158.0,168.8,176.0,177.8,176.0,181.4,194.0,174.20000000000002,141.8,127.4,122.0,120.2,127.4,118.4,113.0,102.2]\n",
    "greater = []\n",
    "moy = sum(temperatures_F)/len(temperatures_F)\n",
    "hour = 0\n",
    "\n",
    "for x in temperatures_F:\n",
    "    hour += 1\n",
    "    if (x >= 158) | (x > 176) | (moy > 149):\n",
    "        print(hour,\"hour :\", \"The cooling system needs to be changed\")\n",
    "    else:\n",
    "        print(\"RAS\")\n",
    "        "
   ]
  },
  {
   "cell_type": "markdown",
   "metadata": {},
   "source": [
    "## Bonus\n",
    "\n",
    "The company has decided that the decision you made is not valid. They want you to analyze the data again but this time, the conditions that need to be met in order to change the cooling system are different.\n",
    "\n",
    "This time, if one of the following events occurs, then the cooling system needs to be replaced:\n",
    "* The temperature is greater than 70ºC during more than 4 consecutive hours.\n",
    "* Any temperature is above 80ºC.\n",
    "* The average temperature exceeds 65ºC.\n",
    "\n",
    "Follow the steps so that you can make the decision.\n",
    "\n",
    "#### 1. Create a list with the hours where the temperature is greater than 70ºC. Store it in a variable."
   ]
  },
  {
   "cell_type": "code",
   "execution_count": 36,
   "metadata": {},
   "outputs": [
    {
     "name": "stdout",
     "output_type": "stream",
     "text": [
      "\n",
      "\n",
      "\n",
      "\n",
      "\n",
      "\n",
      "\n",
      "\n",
      "\n",
      "\n",
      "\n",
      "\n",
      "\n",
      "\n",
      "\n",
      "\n",
      "{8: 70, 9: 76, 10: 80, 11: 81, 12: 80, 13: 83, 14: 90, 15: 79}\n"
     ]
    }
   ],
   "source": [
    "temperatures_C = [33, 66, 65, 60.25, 59, 60, 62, 64, 70, 76, 80, 81, 80, 83, 90, 79, 61, 53, 50, 49, 53, 48, 45, 39]\n",
    "greater = {}\n",
    "hour = -1\n",
    "for x in temperatures_C:\n",
    "    hour += 1\n",
    "    if (x >= 70):\n",
    "        greater[hour]=x\n",
    "    else:\n",
    "        print(\"\")\n",
    "print(greater)"
   ]
  },
  {
   "cell_type": "markdown",
   "metadata": {},
   "source": [
    "#### 2. Check if the list you created in step 1 has more than 4 consecutive hours. "
   ]
  },
  {
   "cell_type": "code",
   "execution_count": 38,
   "metadata": {},
   "outputs": [
    {
     "name": "stdout",
     "output_type": "stream",
     "text": [
      "8\n",
      "step 1 has more than 4 consecutive hours\n"
     ]
    }
   ],
   "source": [
    "greater = {8: 70, 9: 76, 10: 80, 11: 81, 12: 80, 13: 83, 14: 90, 15: 79}\n",
    "print(len(greater)) \n",
    "if (len(greater)) > 4:\n",
    "    print(\"step 1 has more than 4 consecutive hours\")\n",
    "else:\n",
    "    print(\"false\")"
   ]
  },
  {
   "cell_type": "markdown",
   "metadata": {},
   "source": [
    "#### 3. Make the decision!\n",
    "To make your decision, check if any of the three conditions is met. Print a message to show if the cooling system needs to be changed or not."
   ]
  },
  {
   "cell_type": "code",
   "execution_count": 43,
   "metadata": {},
   "outputs": [
    {
     "name": "stdout",
     "output_type": "stream",
     "text": [
      "RAS\n",
      "RAS\n",
      "RAS\n",
      "RAS\n",
      "RAS\n",
      "RAS\n",
      "RAS\n",
      "RAS\n",
      "8 hour : The cooling system needs to be changed\n",
      "false\n",
      "9 hour : The cooling system needs to be changed\n",
      "false\n",
      "10 hour : The cooling system needs to be changed\n",
      "false\n",
      "11 hour : The cooling system needs to be changed\n",
      "false\n",
      "12 hour : The cooling system needs to be changed\n",
      "step 1 has more than 4 consecutive hours\n",
      "13 hour : The cooling system needs to be changed\n",
      "step 1 has more than 4 consecutive hours\n",
      "14 hour : The cooling system needs to be changed\n",
      "step 1 has more than 4 consecutive hours\n",
      "15 hour : The cooling system needs to be changed\n",
      "step 1 has more than 4 consecutive hours\n",
      "RAS\n",
      "RAS\n",
      "RAS\n",
      "RAS\n",
      "RAS\n",
      "RAS\n",
      "RAS\n",
      "RAS\n"
     ]
    }
   ],
   "source": [
    "temperatures_C = [33, 66, 65, 60.25, 59, 60, 62, 64, 70, 76, 80, 81, 80, 83, 90, 79, 61, 53, 50, 49, 53, 48, 45, 39]\n",
    "greater = {}\n",
    "moy = sum(temperatures_C)/len(temperatures_C)\n",
    "hour = -1\n",
    "\n",
    "for x in temperatures_C:\n",
    "    hour += 1\n",
    "    if (x >= 70) | (x > 80) | (moy > 65):\n",
    "        greater[hour]=x\n",
    "        print(hour,\"hour :\", \"The cooling system needs to be changed\")\n",
    "        if (len(greater)) > 4:\n",
    "            print(\"step 1 has more than 4 consecutive hours\")\n",
    "        else:\n",
    "            print(\"false\")\n",
    "    else:\n",
    "        print(\"RAS\")"
   ]
  },
  {
   "cell_type": "markdown",
   "metadata": {},
   "source": [
    "#### 4. Find the average value of the temperature lists (ºC and ºF). What is the relation between both average values?"
   ]
  },
  {
   "cell_type": "code",
   "execution_count": 48,
   "metadata": {},
   "outputs": [
    {
     "name": "stdout",
     "output_type": "stream",
     "text": [
      "La moyenne en °C est de  62.760416666666664\n",
      "La moyenne en °F est de  144.96875\n",
      "il suffit de convertir la moyenne de °C en Fahrenheit\n"
     ]
    }
   ],
   "source": [
    "temperatures_C = [33, 66, 65, 60.25, 59, 60, 62, 64, 70, 76, 80, 81, 80, 83, 90, 79, 61, 53, 50, 49, 53, 48, 45, 39]\n",
    "moyc = sum(temperatures_C)/len(temperatures_C)\n",
    "print(\"La moyenne en °C est de \", moyc)\n",
    "\n",
    "temperatures_F = [91.4,150.8,149.0,140.45,138.2,140.0,143.60000000000002,147.2,158.0,168.8,176.0,177.8,176.0,181.4,194.0,174.20000000000002,141.8,127.4,122.0,120.2,127.4,118.4,113.0,102.2]\n",
    "moyf = sum(temperatures_F)/len(temperatures_F)\n",
    "print(\"La moyenne en °F est de \", moyf)\n",
    "\n",
    "1.8*moyc+32\n",
    "print(\"il suffit de convertir la moyenne de °C en Fahrenheit\")"
   ]
  },
  {
   "cell_type": "markdown",
   "metadata": {},
   "source": [
    "#### 5. Find the standard deviation of the temperature lists (ºC and ºF). What is the relation between both standard deviations?"
   ]
  },
  {
   "cell_type": "code",
   "execution_count": 61,
   "metadata": {},
   "outputs": [
    {
     "name": "stdout",
     "output_type": "stream",
     "text": [
      "The standard deviation in °C est de  14.956727286515203\n",
      "The standard deviation in °F est de  26.922109115727363\n",
      "La deviation entre C° et F° est seulement multipliée par 1.8\n"
     ]
    }
   ],
   "source": [
    "temperatures_C = [33, 66, 65, 60.25, 59, 60, 62, 64, 70, 76, 80, 81, 80, 83, 90, 79, 61, 53, 50, 49, 53, 48, 45, 39]\n",
    "for g in (temperatures_C[:25]):\n",
    "    ecarttype_C = (g-62.760416666666664)**2\n",
    "\n",
    "ecarttype_C = [885.682400173611,10.494900173611127,5.015733506944455,6.302191840277766,14.140733506944427,7.619900173611098,0.5782335069444409,1.5365668402777837,52.411566840277814,175.28656684027783,297.2032335069445,332.6824001736112,297.2032335069445,409.6407335069445,741.9949001736112,263.7240668402778,3.0990668402777692,95.2657335069444,162.8282335069443,189.34906684027771,95.2657335069444,217.86990017361103,315.43240017361103,564.557400173611]\n",
    "t1 = sum(ecarttype_C)/(len(ecarttype_C)-1)\n",
    "\n",
    "standarddeviation_C = pow(t1,0.5)\n",
    "print(\"The standard deviation in °C est de \",standarddeviation_C)\n",
    "\n",
    "temperatures_F = [91.4,150.8,149.0,140.45,138.2,140.0,143.60000000000002,147.2,158.0,168.8,176.0,177.8,176.0,181.4,194.0,174.20000000000002,141.8,127.4,122.0,120.2,127.4,118.4,113.0,102.2]\n",
    "for f in (temperatures_F[:25]):\n",
    "    ecarttype_F = (f-144.96875)**2\n",
    "    \n",
    "ecarttype_F = [2869.610976562499,34.00347656250013,16.2509765625,20.419101562500103,45.815976562500154,24.6884765625,1.8734765624999377,4.978476562499949,169.8134765625,567.9284765625006,962.9384765625,1077.8909765625008,962.9384765625,1327.2359765625004,2404.0634765625,854.4659765625009,10.040976562499928,308.6609765624998,527.5634765625,613.4909765624999,308.6609765624998,705.8984765624997,1022.0009765625,1829.1659765624997]\n",
    "t2 = sum(ecarttype_F)/(len(ecarttype_F)-1)\n",
    "\n",
    "standarddeviation_F = pow(t2,0.5)\n",
    "print(\"The standard deviation in °F est de \",standarddeviation_F)\n",
    "\n",
    "1.8*standarddeviation_C+32\n",
    "print(\"La deviation entre C° et F° est seulement multipliée par 1.8\")"
   ]
  },
  {
   "cell_type": "code",
   "execution_count": null,
   "metadata": {},
   "outputs": [],
   "source": []
  }
 ],
 "metadata": {
  "kernelspec": {
   "display_name": "Python 3",
   "language": "python",
   "name": "python3"
  },
  "language_info": {
   "codemirror_mode": {
    "name": "ipython",
    "version": 3
   },
   "file_extension": ".py",
   "mimetype": "text/x-python",
   "name": "python",
   "nbconvert_exporter": "python",
   "pygments_lexer": "ipython3",
   "version": "3.8.3"
  }
 },
 "nbformat": 4,
 "nbformat_minor": 2
}
